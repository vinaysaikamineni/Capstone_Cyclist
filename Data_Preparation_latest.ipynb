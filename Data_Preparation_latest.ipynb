{
 "cells": [
  {
   "cell_type": "markdown",
   "metadata": {},
   "source": [
    "# Data Preparation"
   ]
  },
  {
   "cell_type": "code",
   "execution_count": 34,
   "metadata": {},
   "outputs": [],
   "source": [
    "import os\n",
    "import pandas as pd\n",
    "import numpy as np\n",
    "import datetime\n"
   ]
  },
  {
   "cell_type": "code",
   "execution_count": 49,
   "metadata": {},
   "outputs": [],
   "source": [
    "df = pd.read_csv(r\"C:\\Users\\daysi\\OneDrive\\Desktop\\Capstone_Cyclist\\Dataset.csv\")\n"
   ]
  },
  {
   "cell_type": "code",
   "execution_count": 45,
   "metadata": {},
   "outputs": [
    {
     "name": "stdout",
     "output_type": "stream",
     "text": [
      "<class 'pandas.core.frame.DataFrame'>\n",
      "RangeIndex: 3036598 entries, 0 to 3036597\n",
      "Data columns (total 5 columns):\n",
      " #   Column         Dtype         \n",
      "---  ------         -----         \n",
      " 0   ride_id        object        \n",
      " 1   rideable_type  object        \n",
      " 2   started_at     datetime64[ns]\n",
      " 3   ended_at       datetime64[ns]\n",
      " 4   member_casual  object        \n",
      "dtypes: datetime64[ns](2), object(3)\n",
      "memory usage: 115.8+ MB\n"
     ]
    }
   ],
   "source": [
    "df.info()"
   ]
  },
  {
   "cell_type": "code",
   "execution_count": 44,
   "metadata": {},
   "outputs": [
    {
     "data": {
      "text/html": [
       "<div>\n",
       "<style scoped>\n",
       "    .dataframe tbody tr th:only-of-type {\n",
       "        vertical-align: middle;\n",
       "    }\n",
       "\n",
       "    .dataframe tbody tr th {\n",
       "        vertical-align: top;\n",
       "    }\n",
       "\n",
       "    .dataframe thead th {\n",
       "        text-align: right;\n",
       "    }\n",
       "</style>\n",
       "<table border=\"1\" class=\"dataframe\">\n",
       "  <thead>\n",
       "    <tr style=\"text-align: right;\">\n",
       "      <th></th>\n",
       "      <th>ride_id</th>\n",
       "      <th>rideable_type</th>\n",
       "      <th>started_at</th>\n",
       "      <th>ended_at</th>\n",
       "      <th>member_casual</th>\n",
       "    </tr>\n",
       "  </thead>\n",
       "  <tbody>\n",
       "    <tr>\n",
       "      <th>0</th>\n",
       "      <td>CDE6023BE6B11D2F</td>\n",
       "      <td>electric_bike</td>\n",
       "      <td>2024-06-11 17:20:06.289</td>\n",
       "      <td>2024-06-11 17:21:39.464</td>\n",
       "      <td>casual</td>\n",
       "    </tr>\n",
       "    <tr>\n",
       "      <th>1</th>\n",
       "      <td>462B48CD292B6A18</td>\n",
       "      <td>electric_bike</td>\n",
       "      <td>2024-06-11 17:19:21.567</td>\n",
       "      <td>2024-06-11 17:19:36.377</td>\n",
       "      <td>casual</td>\n",
       "    </tr>\n",
       "    <tr>\n",
       "      <th>2</th>\n",
       "      <td>9CFB6A858D23ABF7</td>\n",
       "      <td>electric_bike</td>\n",
       "      <td>2024-06-11 17:25:27.089</td>\n",
       "      <td>2024-06-11 17:30:13.035</td>\n",
       "      <td>casual</td>\n",
       "    </tr>\n",
       "    <tr>\n",
       "      <th>3</th>\n",
       "      <td>6365EFEB64231153</td>\n",
       "      <td>electric_bike</td>\n",
       "      <td>2024-06-11 11:53:50.769</td>\n",
       "      <td>2024-06-11 12:08:13.382</td>\n",
       "      <td>casual</td>\n",
       "    </tr>\n",
       "    <tr>\n",
       "      <th>4</th>\n",
       "      <td>BA0323C33134CBA8</td>\n",
       "      <td>electric_bike</td>\n",
       "      <td>2024-06-11 00:11:08.237</td>\n",
       "      <td>2024-06-11 00:11:22.998</td>\n",
       "      <td>casual</td>\n",
       "    </tr>\n",
       "  </tbody>\n",
       "</table>\n",
       "</div>"
      ],
      "text/plain": [
       "            ride_id  rideable_type              started_at  \\\n",
       "0  CDE6023BE6B11D2F  electric_bike 2024-06-11 17:20:06.289   \n",
       "1  462B48CD292B6A18  electric_bike 2024-06-11 17:19:21.567   \n",
       "2  9CFB6A858D23ABF7  electric_bike 2024-06-11 17:25:27.089   \n",
       "3  6365EFEB64231153  electric_bike 2024-06-11 11:53:50.769   \n",
       "4  BA0323C33134CBA8  electric_bike 2024-06-11 00:11:08.237   \n",
       "\n",
       "                 ended_at member_casual  \n",
       "0 2024-06-11 17:21:39.464        casual  \n",
       "1 2024-06-11 17:19:36.377        casual  \n",
       "2 2024-06-11 17:30:13.035        casual  \n",
       "3 2024-06-11 12:08:13.382        casual  \n",
       "4 2024-06-11 00:11:22.998        casual  "
      ]
     },
     "execution_count": 44,
     "metadata": {},
     "output_type": "execute_result"
    }
   ],
   "source": [
    "df.head()"
   ]
  },
  {
   "cell_type": "code",
   "execution_count": 50,
   "metadata": {},
   "outputs": [],
   "source": [
    "df = df.dropna(axis=1)"
   ]
  },
  {
   "cell_type": "code",
   "execution_count": 51,
   "metadata": {},
   "outputs": [],
   "source": [
    "df = df.drop(['start_lat', 'start_lng'], axis= 1)"
   ]
  },
  {
   "cell_type": "code",
   "execution_count": 52,
   "metadata": {},
   "outputs": [
    {
     "data": {
      "text/html": [
       "<div>\n",
       "<style scoped>\n",
       "    .dataframe tbody tr th:only-of-type {\n",
       "        vertical-align: middle;\n",
       "    }\n",
       "\n",
       "    .dataframe tbody tr th {\n",
       "        vertical-align: top;\n",
       "    }\n",
       "\n",
       "    .dataframe thead th {\n",
       "        text-align: right;\n",
       "    }\n",
       "</style>\n",
       "<table border=\"1\" class=\"dataframe\">\n",
       "  <thead>\n",
       "    <tr style=\"text-align: right;\">\n",
       "      <th></th>\n",
       "      <th>ride_id</th>\n",
       "      <th>rideable_type</th>\n",
       "      <th>started_at</th>\n",
       "      <th>ended_at</th>\n",
       "      <th>member_casual</th>\n",
       "    </tr>\n",
       "  </thead>\n",
       "  <tbody>\n",
       "    <tr>\n",
       "      <th>0</th>\n",
       "      <td>CDE6023BE6B11D2F</td>\n",
       "      <td>electric_bike</td>\n",
       "      <td>2024-06-11 17:20:06.289</td>\n",
       "      <td>2024-06-11 17:21:39.464</td>\n",
       "      <td>casual</td>\n",
       "    </tr>\n",
       "    <tr>\n",
       "      <th>1</th>\n",
       "      <td>462B48CD292B6A18</td>\n",
       "      <td>electric_bike</td>\n",
       "      <td>2024-06-11 17:19:21.567</td>\n",
       "      <td>2024-06-11 17:19:36.377</td>\n",
       "      <td>casual</td>\n",
       "    </tr>\n",
       "    <tr>\n",
       "      <th>2</th>\n",
       "      <td>9CFB6A858D23ABF7</td>\n",
       "      <td>electric_bike</td>\n",
       "      <td>2024-06-11 17:25:27.089</td>\n",
       "      <td>2024-06-11 17:30:13.035</td>\n",
       "      <td>casual</td>\n",
       "    </tr>\n",
       "    <tr>\n",
       "      <th>3</th>\n",
       "      <td>6365EFEB64231153</td>\n",
       "      <td>electric_bike</td>\n",
       "      <td>2024-06-11 11:53:50.769</td>\n",
       "      <td>2024-06-11 12:08:13.382</td>\n",
       "      <td>casual</td>\n",
       "    </tr>\n",
       "    <tr>\n",
       "      <th>4</th>\n",
       "      <td>BA0323C33134CBA8</td>\n",
       "      <td>electric_bike</td>\n",
       "      <td>2024-06-11 00:11:08.237</td>\n",
       "      <td>2024-06-11 00:11:22.998</td>\n",
       "      <td>casual</td>\n",
       "    </tr>\n",
       "  </tbody>\n",
       "</table>\n",
       "</div>"
      ],
      "text/plain": [
       "            ride_id  rideable_type               started_at  \\\n",
       "0  CDE6023BE6B11D2F  electric_bike  2024-06-11 17:20:06.289   \n",
       "1  462B48CD292B6A18  electric_bike  2024-06-11 17:19:21.567   \n",
       "2  9CFB6A858D23ABF7  electric_bike  2024-06-11 17:25:27.089   \n",
       "3  6365EFEB64231153  electric_bike  2024-06-11 11:53:50.769   \n",
       "4  BA0323C33134CBA8  electric_bike  2024-06-11 00:11:08.237   \n",
       "\n",
       "                  ended_at member_casual  \n",
       "0  2024-06-11 17:21:39.464        casual  \n",
       "1  2024-06-11 17:19:36.377        casual  \n",
       "2  2024-06-11 17:30:13.035        casual  \n",
       "3  2024-06-11 12:08:13.382        casual  \n",
       "4  2024-06-11 00:11:22.998        casual  "
      ]
     },
     "execution_count": 52,
     "metadata": {},
     "output_type": "execute_result"
    }
   ],
   "source": [
    "df = df.drop('Unnamed: 0', axis = 1)\n",
    "df.head()"
   ]
  },
  {
   "cell_type": "code",
   "execution_count": 42,
   "metadata": {},
   "outputs": [
    {
     "name": "stdout",
     "output_type": "stream",
     "text": [
      "['electric_bike' 'classic_bike' 'electric_scooter']\n"
     ]
    }
   ],
   "source": [
    "print(df['rideable_type'].unique())"
   ]
  },
  {
   "cell_type": "code",
   "execution_count": 53,
   "metadata": {},
   "outputs": [],
   "source": [
    "df['started_at'] = pd.to_datetime(df['started_at'])\n",
    "df['ended_at'] = pd.to_datetime(df['ended_at'])"
   ]
  },
  {
   "cell_type": "code",
   "execution_count": 54,
   "metadata": {},
   "outputs": [],
   "source": [
    "df['ride_journey'] = (((df['ended_at'] - df['started_at']).dt.total_seconds()) / 60).round(2)"
   ]
  },
  {
   "cell_type": "code",
   "execution_count": 55,
   "metadata": {},
   "outputs": [
    {
     "data": {
      "text/html": [
       "<div>\n",
       "<style scoped>\n",
       "    .dataframe tbody tr th:only-of-type {\n",
       "        vertical-align: middle;\n",
       "    }\n",
       "\n",
       "    .dataframe tbody tr th {\n",
       "        vertical-align: top;\n",
       "    }\n",
       "\n",
       "    .dataframe thead th {\n",
       "        text-align: right;\n",
       "    }\n",
       "</style>\n",
       "<table border=\"1\" class=\"dataframe\">\n",
       "  <thead>\n",
       "    <tr style=\"text-align: right;\">\n",
       "      <th></th>\n",
       "      <th>ride_id</th>\n",
       "      <th>rideable_type</th>\n",
       "      <th>started_at</th>\n",
       "      <th>ended_at</th>\n",
       "      <th>member_casual</th>\n",
       "      <th>ride_journey</th>\n",
       "    </tr>\n",
       "  </thead>\n",
       "  <tbody>\n",
       "    <tr>\n",
       "      <th>0</th>\n",
       "      <td>CDE6023BE6B11D2F</td>\n",
       "      <td>electric_bike</td>\n",
       "      <td>2024-06-11 17:20:06.289</td>\n",
       "      <td>2024-06-11 17:21:39.464</td>\n",
       "      <td>casual</td>\n",
       "      <td>1.55</td>\n",
       "    </tr>\n",
       "    <tr>\n",
       "      <th>1</th>\n",
       "      <td>462B48CD292B6A18</td>\n",
       "      <td>electric_bike</td>\n",
       "      <td>2024-06-11 17:19:21.567</td>\n",
       "      <td>2024-06-11 17:19:36.377</td>\n",
       "      <td>casual</td>\n",
       "      <td>0.25</td>\n",
       "    </tr>\n",
       "    <tr>\n",
       "      <th>2</th>\n",
       "      <td>9CFB6A858D23ABF7</td>\n",
       "      <td>electric_bike</td>\n",
       "      <td>2024-06-11 17:25:27.089</td>\n",
       "      <td>2024-06-11 17:30:13.035</td>\n",
       "      <td>casual</td>\n",
       "      <td>4.77</td>\n",
       "    </tr>\n",
       "    <tr>\n",
       "      <th>3</th>\n",
       "      <td>6365EFEB64231153</td>\n",
       "      <td>electric_bike</td>\n",
       "      <td>2024-06-11 11:53:50.769</td>\n",
       "      <td>2024-06-11 12:08:13.382</td>\n",
       "      <td>casual</td>\n",
       "      <td>14.38</td>\n",
       "    </tr>\n",
       "    <tr>\n",
       "      <th>4</th>\n",
       "      <td>BA0323C33134CBA8</td>\n",
       "      <td>electric_bike</td>\n",
       "      <td>2024-06-11 00:11:08.237</td>\n",
       "      <td>2024-06-11 00:11:22.998</td>\n",
       "      <td>casual</td>\n",
       "      <td>0.25</td>\n",
       "    </tr>\n",
       "  </tbody>\n",
       "</table>\n",
       "</div>"
      ],
      "text/plain": [
       "            ride_id  rideable_type              started_at  \\\n",
       "0  CDE6023BE6B11D2F  electric_bike 2024-06-11 17:20:06.289   \n",
       "1  462B48CD292B6A18  electric_bike 2024-06-11 17:19:21.567   \n",
       "2  9CFB6A858D23ABF7  electric_bike 2024-06-11 17:25:27.089   \n",
       "3  6365EFEB64231153  electric_bike 2024-06-11 11:53:50.769   \n",
       "4  BA0323C33134CBA8  electric_bike 2024-06-11 00:11:08.237   \n",
       "\n",
       "                 ended_at member_casual  ride_journey  \n",
       "0 2024-06-11 17:21:39.464        casual          1.55  \n",
       "1 2024-06-11 17:19:36.377        casual          0.25  \n",
       "2 2024-06-11 17:30:13.035        casual          4.77  \n",
       "3 2024-06-11 12:08:13.382        casual         14.38  \n",
       "4 2024-06-11 00:11:22.998        casual          0.25  "
      ]
     },
     "execution_count": 55,
     "metadata": {},
     "output_type": "execute_result"
    }
   ],
   "source": [
    "df.head()"
   ]
  },
  {
   "cell_type": "code",
   "execution_count": 58,
   "metadata": {},
   "outputs": [],
   "source": [
    "Data_final = df.to_csv(r\"C:\\Users\\daysi\\OneDrive\\Desktop\\Capstone_Cyclist\\Dataset_Final.csv\",index = False)"
   ]
  }
 ],
 "metadata": {
  "kernelspec": {
   "display_name": "Python 3",
   "language": "python",
   "name": "python3"
  },
  "language_info": {
   "codemirror_mode": {
    "name": "ipython",
    "version": 3
   },
   "file_extension": ".py",
   "mimetype": "text/x-python",
   "name": "python",
   "nbconvert_exporter": "python",
   "pygments_lexer": "ipython3",
   "version": "3.12.6"
  }
 },
 "nbformat": 4,
 "nbformat_minor": 2
}
